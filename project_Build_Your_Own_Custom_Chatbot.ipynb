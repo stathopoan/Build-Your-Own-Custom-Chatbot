{
 "cells": [
  {
   "cell_type": "markdown",
   "id": "124e5672",
   "metadata": {},
   "source": [
    "# Custom Chatbot Project"
   ]
  },
  {
   "cell_type": "markdown",
   "id": "e04dda54-3e18-4c5e-ae2c-bab8cb6433ef",
   "metadata": {},
   "source": [
    "In this project we will use the RAG approach to create a customized chatbot specialized in a specific dataset selected."
   ]
  },
  {
   "cell_type": "markdown",
   "id": "2a4a94b3",
   "metadata": {},
   "source": [
    "The dataset selected for this project is: NYC food scrap drop off sites. The csv file used contains locations, hours, and other information about food scrap drop-off sites in New York City. This information was retrieved in early 2023, and you can also get the latest version from here: https://dev.socrata.com/foundry/data.cityofnewyork.us/if26-z6xq. This datasource contains very specific information about scrapes drop off sites that a user will request like location, type of food, opening and closing time. This data is very dynamic and can change very often.  An LLM is hard to follow these changes especially when the training data and time intervals are too big and costly. This way by just importing the new csv data in our RAG application we have our customized chatbot ready within minutes at a fraction of the cost of an LLM. \n"
   ]
  },
  {
   "cell_type": "markdown",
   "id": "a63d4c5f",
   "metadata": {},
   "source": [
    "## Data Wrangling\n",
    "\n",
    "In the cells below, chosen dataset is loaded into a `pandas` dataframe with a column named `\"text\"`. This column contains all of the text data, separated into at least 20 rows."
   ]
  },
  {
   "cell_type": "code",
   "execution_count": 121,
   "id": "c69b83a1",
   "metadata": {},
   "outputs": [],
   "source": [
    "import pandas as pd\n",
    "df = pd.read_csv('nyc_food_scrap_drop_off_sites.csv')\n",
    "df = df.fillna(\"unknown\")"
   ]
  },
  {
   "cell_type": "markdown",
   "id": "005a9907-4df8-462d-8b69-d9d6f3ebef99",
   "metadata": {},
   "source": [
    "##### In the 'text' field we add the description of each column following by the corresponding value. This way we provide the model with valuable interpretation information about the actual database we feed in."
   ]
  },
  {
   "cell_type": "code",
   "execution_count": 122,
   "id": "43f2e5d8-2db3-4fe3-8253-c3a1c9ab5d21",
   "metadata": {},
   "outputs": [],
   "source": [
    "df['text'] = 'NYC Borough where vendor is located: '+ df['borough'] +' .Neighborhood Tabulation Area Name: ' + df['ntaname']+' .Name of food scrap drop-off location: '+df['food_scrap_drop_off_site']+' .Street address or cross streets associated with food scrap drop-off location: '+df['location']+ ' .Name of the organization that services the food scraps that are dropped off: '+df['hosted_by']+ ' .Months when food scraps can be dropped off at the location: ' +df['open_months']+ ' .Days and hours when food scraps can be dropped off: ' +df['operation_day_hours']+ ' .Website associated with food scrap drop-off location:' +df['website']\n",
    "\n"
   ]
  },
  {
   "cell_type": "code",
   "execution_count": 123,
   "id": "6d6e89d5-3cf2-4747-aad3-8a620d2960e8",
   "metadata": {},
   "outputs": [
    {
     "data": {
      "text/html": [
       "<div>\n",
       "<style scoped>\n",
       "    .dataframe tbody tr th:only-of-type {\n",
       "        vertical-align: middle;\n",
       "    }\n",
       "\n",
       "    .dataframe tbody tr th {\n",
       "        vertical-align: top;\n",
       "    }\n",
       "\n",
       "    .dataframe thead th {\n",
       "        text-align: right;\n",
       "    }\n",
       "</style>\n",
       "<table border=\"1\" class=\"dataframe\">\n",
       "  <thead>\n",
       "    <tr style=\"text-align: right;\">\n",
       "      <th></th>\n",
       "      <th>text</th>\n",
       "    </tr>\n",
       "  </thead>\n",
       "  <tbody>\n",
       "    <tr>\n",
       "      <th>0</th>\n",
       "      <td>NYC Borough where vendor is located: Staten Is...</td>\n",
       "    </tr>\n",
       "    <tr>\n",
       "      <th>1</th>\n",
       "      <td>NYC Borough where vendor is located: Manhattan...</td>\n",
       "    </tr>\n",
       "    <tr>\n",
       "      <th>2</th>\n",
       "      <td>NYC Borough where vendor is located: Brooklyn ...</td>\n",
       "    </tr>\n",
       "    <tr>\n",
       "      <th>3</th>\n",
       "      <td>NYC Borough where vendor is located: Manhattan...</td>\n",
       "    </tr>\n",
       "    <tr>\n",
       "      <th>4</th>\n",
       "      <td>NYC Borough where vendor is located: Queens .N...</td>\n",
       "    </tr>\n",
       "  </tbody>\n",
       "</table>\n",
       "</div>"
      ],
      "text/plain": [
       "                                                text\n",
       "0  NYC Borough where vendor is located: Staten Is...\n",
       "1  NYC Borough where vendor is located: Manhattan...\n",
       "2  NYC Borough where vendor is located: Brooklyn ...\n",
       "3  NYC Borough where vendor is located: Manhattan...\n",
       "4  NYC Borough where vendor is located: Queens .N..."
      ]
     },
     "execution_count": 123,
     "metadata": {},
     "output_type": "execute_result"
    }
   ],
   "source": [
    "df = df[['text']]\n",
    "df.head()"
   ]
  },
  {
   "cell_type": "code",
   "execution_count": 137,
   "id": "0a595980",
   "metadata": {},
   "outputs": [],
   "source": [
    "# openai API key here\n",
    "import openai\n",
    "openai.api_key = \"YOUR API KEY\"\n"
   ]
  },
  {
   "cell_type": "code",
   "execution_count": 125,
   "id": "3557e76d-74b9-4ee0-8f5b-504d9febf83f",
   "metadata": {},
   "outputs": [],
   "source": [
    "EMBEDDING_MODEL_NAME = \"text-embedding-ada-002\"\n",
    "batch_size = 100\n",
    "embeddings = []\n",
    "for i in range(0, len(df), batch_size):\n",
    "    # Send text data to OpenAI model to get embeddings\n",
    "    response = openai.Embedding.create(\n",
    "        input=df.iloc[i:i+batch_size][\"text\"].tolist(),\n",
    "        engine=EMBEDDING_MODEL_NAME\n",
    "    )\n",
    "\n",
    "    # Add embeddings to list\n",
    "    embeddings.extend([data[\"embedding\"] for data in response[\"data\"]])\n",
    "\n",
    "# Add embeddings list to dataframe\n",
    "df[\"embeddings\"] = embeddings"
   ]
  },
  {
   "cell_type": "code",
   "execution_count": 126,
   "id": "69b787fb-f529-4f19-ae08-d8c2d4202f52",
   "metadata": {},
   "outputs": [],
   "source": [
    "import tiktoken\n",
    "import numpy as np\n",
    "from openai.embeddings_utils import get_embedding, distances_from_embeddings\n",
    "\n",
    "def get_rows_sorted_by_relevance(question, df):\n",
    "    \"\"\"\n",
    "    Function that takes in a question string and a dataframe containing\n",
    "    rows of text and associated embeddings, and returns that dataframe\n",
    "    sorted from least to most relevant for that question\n",
    "    \"\"\"\n",
    "\n",
    "    # Get embeddings for the question text\n",
    "    question_embeddings = get_embedding(question, engine=EMBEDDING_MODEL_NAME)\n",
    "\n",
    "    # Make a copy of the dataframe and add a \"distances\" column containing\n",
    "    # the cosine distances between each row's embeddings and the\n",
    "    # embeddings of the question\n",
    "    df_copy = df.copy()\n",
    "    df_copy[\"distances\"] = distances_from_embeddings(\n",
    "        question_embeddings,\n",
    "        df_copy[\"embeddings\"].values,\n",
    "        distance_metric=\"cosine\"\n",
    "    )\n",
    "\n",
    "    # Sort the copied dataframe by the distances and return it\n",
    "    # (shorter distance = more relevant so we sort in ascending order)\n",
    "    df_copy.sort_values(\"distances\", ascending=True, inplace=True)\n",
    "    return df_copy\n",
    "\n"
   ]
  },
  {
   "cell_type": "markdown",
   "id": "ae769871",
   "metadata": {},
   "source": [
    "## Custom Query Completion\n",
    "\n",
    "Compose custom query using the chosen dataset and retrieve results from an OpenAI `Completion` model."
   ]
  },
  {
   "cell_type": "code",
   "execution_count": 127,
   "id": "c403f543",
   "metadata": {},
   "outputs": [],
   "source": [
    "def create_prompt(question, df, max_token_count):\n",
    "    \"\"\"\n",
    "    Given a question and a dataframe containing rows of text and their\n",
    "    embeddings, return a text prompt to send to a Completion model\n",
    "    \"\"\"\n",
    "    # Create a tokenizer that is designed to align with our embeddings\n",
    "    tokenizer = tiktoken.get_encoding(\"cl100k_base\")\n",
    "\n",
    "    # Count the number of tokens in the prompt template and question\n",
    "    prompt_template = \"\"\"\n",
    "Answer the question based on the context below, and if the question\n",
    "can't be answered based on the context, say \"I don't know\". Be as much specific as possible like type of food accepted,\n",
    "available time for drop off and company that hosts the site.\n",
    "\n",
    "Context: \n",
    "\n",
    "{}\n",
    "\n",
    "---\n",
    "\n",
    "Question: {}\n",
    "Answer:\"\"\"\n",
    "\n",
    "    current_token_count = len(tokenizer.encode(prompt_template)) + \\\n",
    "                            len(tokenizer.encode(question))\n",
    "\n",
    "    context = []\n",
    "    for text in get_rows_sorted_by_relevance(question, df)[\"text\"].values:\n",
    "\n",
    "        # Increase the counter based on the number of tokens in this row\n",
    "        text_token_count = len(tokenizer.encode(text))\n",
    "        current_token_count += text_token_count\n",
    "\n",
    "        # Add the row of text to the list if we haven't exceeded the max\n",
    "        if current_token_count <= max_token_count:\n",
    "            context.append(text)\n",
    "        else:\n",
    "            break\n",
    "\n",
    "    return prompt_template.format(\"\\n\\n###\\n\\n\".join(context), question)"
   ]
  },
  {
   "cell_type": "code",
   "execution_count": null,
   "id": "74280b92",
   "metadata": {},
   "outputs": [],
   "source": []
  },
  {
   "cell_type": "markdown",
   "id": "1783f146",
   "metadata": {},
   "source": [
    "## Custom Performance Demonstration\n",
    "\n",
    "TODO: In the cells below, demonstrate the performance of your custom query using at least 2 questions. For each question, show the answer from a basic `Completion` model query as well as the answer from your custom query."
   ]
  },
  {
   "cell_type": "markdown",
   "id": "4f11fdc0",
   "metadata": {},
   "source": [
    "### Question 1"
   ]
  },
  {
   "cell_type": "code",
   "execution_count": 105,
   "id": "4901c850",
   "metadata": {},
   "outputs": [],
   "source": [
    "question_1 = \"\"\"\n",
    "Question: I live in Manhattan. Where can I drop off my meat scrapes?\n",
    "Answer: \n",
    "\"\"\""
   ]
  },
  {
   "cell_type": "markdown",
   "id": "9216a6cb-03d9-40dd-b690-3c57eebdf146",
   "metadata": {},
   "source": [
    "#### Not customized answer"
   ]
  },
  {
   "cell_type": "code",
   "execution_count": 106,
   "id": "bd7a093b",
   "metadata": {},
   "outputs": [
    {
     "data": {
      "text/plain": [
       "\"There are several options for dropping off meat scrapes in Manhattan. You can contact your local community composting program to see if they accept meat scrapes for composting. You can also check with your local butcher or grocery store to see if they have a food scrap drop-off program. Additionally, some farmers' markets in Manhattan may accept meat scrapes for composting.\""
      ]
     },
     "execution_count": 106,
     "metadata": {},
     "output_type": "execute_result"
    }
   ],
   "source": [
    "answer1_not_customized = openai.Completion.create(\n",
    "    model=\"gpt-3.5-turbo-instruct\",\n",
    "    prompt=question_1,\n",
    "    max_tokens=150\n",
    ")\n",
    "answer1_not_customized[\"choices\"][0][\"text\"]"
   ]
  },
  {
   "cell_type": "markdown",
   "id": "ba3825ad-15d7-496d-a578-04233fe0b329",
   "metadata": {},
   "source": [
    "#### Customized answer"
   ]
  },
  {
   "cell_type": "code",
   "execution_count": 107,
   "id": "77386caa-92dc-49c1-a092-eb52e539139f",
   "metadata": {},
   "outputs": [
    {
     "data": {
      "text/plain": [
       "' The Department of Sanitation services food scraps dropped off at the NE Corner of Amsterdam Avenue & W 133 Street in Manhattan, which is available 24/7.'"
      ]
     },
     "execution_count": 107,
     "metadata": {},
     "output_type": "execute_result"
    }
   ],
   "source": [
    "answer1_customized = openai.Completion.create(\n",
    "  model=\"gpt-3.5-turbo-instruct\",\n",
    "  prompt=create_prompt(question_1, df, 1800),\n",
    "    max_tokens=150\n",
    ")\n",
    "answer1_customized[\"choices\"][0][\"text\"]"
   ]
  },
  {
   "cell_type": "markdown",
   "id": "6e86e37c",
   "metadata": {},
   "source": [
    "### Question 2"
   ]
  },
  {
   "cell_type": "code",
   "execution_count": 134,
   "id": "b7a52f9d-1a60-4f5b-93b5-e7fb44ea99c6",
   "metadata": {},
   "outputs": [],
   "source": [
    "question_2 = \"\"\"\n",
    "Question: I live in Manhattan. Where can I drop off my scrapes after 10 pm?\n",
    "Answer: \n",
    "\"\"\""
   ]
  },
  {
   "cell_type": "markdown",
   "id": "f33f480a-ed79-4260-8439-dd746a93db67",
   "metadata": {},
   "source": [
    "#### Not customized answer"
   ]
  },
  {
   "cell_type": "code",
   "execution_count": 135,
   "id": "11c07a54",
   "metadata": {},
   "outputs": [
    {
     "data": {
      "text/plain": [
       "'Unfortunately, most public recycling centers and scrap yards in Manhattan are typically closed after 10 pm. You may need to wait until the next morning to drop off your scrapes at a designated recycling center or scrap yard. Alternatively, you can check with private scrap buyers or junk removal companies in the area to see if they offer after-hours drop-off options.'"
      ]
     },
     "execution_count": 135,
     "metadata": {},
     "output_type": "execute_result"
    }
   ],
   "source": [
    "answer2_not_customized = openai.Completion.create(\n",
    "    model=\"gpt-3.5-turbo-instruct\",\n",
    "    prompt=question_2,\n",
    "    max_tokens=150\n",
    ")\n",
    "answer2_not_customized[\"choices\"][0][\"text\"]"
   ]
  },
  {
   "cell_type": "markdown",
   "id": "b4368472-014f-49b3-b1ec-593055dad8f8",
   "metadata": {},
   "source": [
    "#### Customized answer"
   ]
  },
  {
   "cell_type": "code",
   "execution_count": 136,
   "id": "2065158c-ce58-4011-ace5-e542a290ff9a",
   "metadata": {},
   "outputs": [
    {
     "data": {
      "text/plain": [
       "\" I don't know, as none of the given contexts specify drop-off locations that are open after 10 pm. All given locations have a 24/7 drop-off policy, but it is unclear if the bins are accessible after 10 pm. It is best to check the specific websites or contact the organization for more information on drop-off hours.\""
      ]
     },
     "execution_count": 136,
     "metadata": {},
     "output_type": "execute_result"
    }
   ],
   "source": [
    "answer2_customized = openai.Completion.create(\n",
    "  model=\"gpt-3.5-turbo-instruct\",\n",
    "  prompt=create_prompt(question_2, df, 1800),\n",
    "    max_tokens=150\n",
    ")\n",
    "answer2_customized[\"choices\"][0][\"text\"]"
   ]
  },
  {
   "cell_type": "code",
   "execution_count": null,
   "id": "358ee83a-34ee-405a-923a-8e9e5317c4fd",
   "metadata": {},
   "outputs": [],
   "source": []
  },
  {
   "cell_type": "code",
   "execution_count": null,
   "id": "a45574aa-fa11-4144-b386-d0b2aba17504",
   "metadata": {},
   "outputs": [],
   "source": []
  }
 ],
 "metadata": {
  "kernelspec": {
   "display_name": "Python 3 (ipykernel)",
   "language": "python",
   "name": "python3"
  },
  "language_info": {
   "codemirror_mode": {
    "name": "ipython",
    "version": 3
   },
   "file_extension": ".py",
   "mimetype": "text/x-python",
   "name": "python",
   "nbconvert_exporter": "python",
   "pygments_lexer": "ipython3",
   "version": "3.10.11"
  }
 },
 "nbformat": 4,
 "nbformat_minor": 5
}
